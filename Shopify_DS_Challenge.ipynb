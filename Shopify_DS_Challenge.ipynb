{
 "cells": [
  {
   "cell_type": "markdown",
   "id": "9822d3de",
   "metadata": {},
   "source": [
    "### Question 1\n",
    "\n",
    "On Shopify, we have exactly 100 sneaker shops, and each of these shops sells only one model of shoe. We want to do some analysis of the average order value (AOV). When we look at orders data over a 30 day window, we naively calculate an AOV of $3145.13. Given that we know these shops are selling sneakers, a relatively affordable item, something seems wrong with our analysis. \n",
    "\n",
    "a. Think about what could be going wrong with our calculation. Think about a better way to evaluate this data.   \n",
    "b. What metric would you report for this dataset?   \n",
    "c. What is its value?\n"
   ]
  },
  {
   "cell_type": "markdown",
   "id": "4d62dae6",
   "metadata": {},
   "source": [
    "#### Answer:   \n",
    "a. By defination, average order value (AOV) is total revenue devided by the number of orders. It is widely used in evaluating online marketing performance and pricing strategy. Given sneakers is a relatively affordable item, it is not reasonable to see a AOV of \\$3145.13. The potential problem is the dataset contains some large amount outliers, which may caused by fraud (shop 42, user 607) or other mistakes, such as price input typo (shop 78). \n",
    "\n",
    "A better way to evaluate this data is to calculate the AOV (mean of order amount) after removing the outliers, which is $302.58.\n",
    "\n",
    "b. We could also use median as the metric to measure the central trend. Median is more robust for dataset with outliers. (This will be shown in below analysis)\n",
    "\n",
    "c. The median of order amount is $284"
   ]
  },
  {
   "cell_type": "markdown",
   "id": "5778c769",
   "metadata": {},
   "source": [
    "Reference:    \n",
    "https://www.shopify.ca/blog/average-order-value   \n",
    "https://www.indeed.com/career-advice/career-development/customer-retention"
   ]
  },
  {
   "cell_type": "markdown",
   "id": "250315c7",
   "metadata": {},
   "source": [
    "### Please see below for the detailed analysis"
   ]
  },
  {
   "cell_type": "code",
   "execution_count": 1,
   "id": "818bc930",
   "metadata": {},
   "outputs": [],
   "source": [
    "## library & package\n",
    "import os\n",
    "import numpy as np\n",
    "import pandas as pd\n",
    "import sklearn\n",
    "import seaborn as sns\n",
    "import matplotlib.pyplot as plt\n",
    "%matplotlib inline"
   ]
  },
  {
   "cell_type": "code",
   "execution_count": 2,
   "id": "9a4a7de0",
   "metadata": {},
   "outputs": [
    {
     "data": {
      "text/plain": [
       "(5000, 7)"
      ]
     },
     "execution_count": 2,
     "metadata": {},
     "output_type": "execute_result"
    }
   ],
   "source": [
    "data = pd.read_csv(os.path.join(os.getcwd(), 'Shopify Data Science Intern Challenge Data Set.csv'))\n",
    "data.shape"
   ]
  },
  {
   "cell_type": "markdown",
   "id": "5041e179",
   "metadata": {},
   "source": [
    "Dataset contains 5000 records and 7 columns"
   ]
  },
  {
   "cell_type": "code",
   "execution_count": 3,
   "id": "5006a232",
   "metadata": {
    "scrolled": true
   },
   "outputs": [
    {
     "data": {
      "text/html": [
       "<div>\n",
       "<style scoped>\n",
       "    .dataframe tbody tr th:only-of-type {\n",
       "        vertical-align: middle;\n",
       "    }\n",
       "\n",
       "    .dataframe tbody tr th {\n",
       "        vertical-align: top;\n",
       "    }\n",
       "\n",
       "    .dataframe thead th {\n",
       "        text-align: right;\n",
       "    }\n",
       "</style>\n",
       "<table border=\"1\" class=\"dataframe\">\n",
       "  <thead>\n",
       "    <tr style=\"text-align: right;\">\n",
       "      <th></th>\n",
       "      <th>order_id</th>\n",
       "      <th>shop_id</th>\n",
       "      <th>user_id</th>\n",
       "      <th>order_amount</th>\n",
       "      <th>total_items</th>\n",
       "      <th>payment_method</th>\n",
       "      <th>created_at</th>\n",
       "    </tr>\n",
       "  </thead>\n",
       "  <tbody>\n",
       "    <tr>\n",
       "      <th>0</th>\n",
       "      <td>1</td>\n",
       "      <td>53</td>\n",
       "      <td>746</td>\n",
       "      <td>224</td>\n",
       "      <td>2</td>\n",
       "      <td>cash</td>\n",
       "      <td>2017-03-13 12:36:56</td>\n",
       "    </tr>\n",
       "    <tr>\n",
       "      <th>1</th>\n",
       "      <td>2</td>\n",
       "      <td>92</td>\n",
       "      <td>925</td>\n",
       "      <td>90</td>\n",
       "      <td>1</td>\n",
       "      <td>cash</td>\n",
       "      <td>2017-03-03 17:38:52</td>\n",
       "    </tr>\n",
       "    <tr>\n",
       "      <th>2</th>\n",
       "      <td>3</td>\n",
       "      <td>44</td>\n",
       "      <td>861</td>\n",
       "      <td>144</td>\n",
       "      <td>1</td>\n",
       "      <td>cash</td>\n",
       "      <td>2017-03-14 4:23:56</td>\n",
       "    </tr>\n",
       "    <tr>\n",
       "      <th>3</th>\n",
       "      <td>4</td>\n",
       "      <td>18</td>\n",
       "      <td>935</td>\n",
       "      <td>156</td>\n",
       "      <td>1</td>\n",
       "      <td>credit_card</td>\n",
       "      <td>2017-03-26 12:43:37</td>\n",
       "    </tr>\n",
       "    <tr>\n",
       "      <th>4</th>\n",
       "      <td>5</td>\n",
       "      <td>18</td>\n",
       "      <td>883</td>\n",
       "      <td>156</td>\n",
       "      <td>1</td>\n",
       "      <td>credit_card</td>\n",
       "      <td>2017-03-01 4:35:11</td>\n",
       "    </tr>\n",
       "  </tbody>\n",
       "</table>\n",
       "</div>"
      ],
      "text/plain": [
       "   order_id  shop_id  user_id  order_amount  total_items payment_method  \\\n",
       "0         1       53      746           224            2           cash   \n",
       "1         2       92      925            90            1           cash   \n",
       "2         3       44      861           144            1           cash   \n",
       "3         4       18      935           156            1    credit_card   \n",
       "4         5       18      883           156            1    credit_card   \n",
       "\n",
       "            created_at  \n",
       "0  2017-03-13 12:36:56  \n",
       "1  2017-03-03 17:38:52  \n",
       "2   2017-03-14 4:23:56  \n",
       "3  2017-03-26 12:43:37  \n",
       "4   2017-03-01 4:35:11  "
      ]
     },
     "execution_count": 3,
     "metadata": {},
     "output_type": "execute_result"
    }
   ],
   "source": [
    "# print first few rows\n",
    "data.head()"
   ]
  },
  {
   "cell_type": "markdown",
   "id": "58e3e6d8",
   "metadata": {},
   "source": [
    "We can tell all features are numeric except payment_method"
   ]
  },
  {
   "cell_type": "code",
   "execution_count": 4,
   "id": "a896050a",
   "metadata": {},
   "outputs": [
    {
     "data": {
      "text/plain": [
       "3145.128"
      ]
     },
     "execution_count": 4,
     "metadata": {},
     "output_type": "execute_result"
    }
   ],
   "source": [
    "# calculate the AOV = total revenue/number of orders\n",
    "sum(data['order_amount'])/data['order_amount'].count()"
   ]
  },
  {
   "cell_type": "markdown",
   "id": "cc853957",
   "metadata": {},
   "source": [
    "Given sneakers is a relatively affordable item, it is not reasonable to see a AOV of $3145.13."
   ]
  },
  {
   "cell_type": "markdown",
   "id": "8df91edb",
   "metadata": {},
   "source": [
    "### Explortary Data Analysis"
   ]
  },
  {
   "cell_type": "markdown",
   "id": "b75515c6",
   "metadata": {},
   "source": [
    "#### Let's first check the duplicates and missing values in the dataset"
   ]
  },
  {
   "cell_type": "code",
   "execution_count": 5,
   "id": "733c6252",
   "metadata": {},
   "outputs": [
    {
     "data": {
      "text/plain": [
       "(5000, 7)"
      ]
     },
     "execution_count": 5,
     "metadata": {},
     "output_type": "execute_result"
    }
   ],
   "source": [
    "# check duplicates\n",
    "data.drop_duplicates().shape"
   ]
  },
  {
   "cell_type": "markdown",
   "id": "6eef446f",
   "metadata": {},
   "source": [
    "Since the number of records are same before and after dropping duplicates, it means there is no duplicates"
   ]
  },
  {
   "cell_type": "code",
   "execution_count": 6,
   "id": "f973b8a5",
   "metadata": {},
   "outputs": [
    {
     "name": "stdout",
     "output_type": "stream",
     "text": [
      "<class 'pandas.core.frame.DataFrame'>\n",
      "RangeIndex: 5000 entries, 0 to 4999\n",
      "Data columns (total 7 columns):\n",
      " #   Column          Non-Null Count  Dtype \n",
      "---  ------          --------------  ----- \n",
      " 0   order_id        5000 non-null   int64 \n",
      " 1   shop_id         5000 non-null   int64 \n",
      " 2   user_id         5000 non-null   int64 \n",
      " 3   order_amount    5000 non-null   int64 \n",
      " 4   total_items     5000 non-null   int64 \n",
      " 5   payment_method  5000 non-null   object\n",
      " 6   created_at      5000 non-null   object\n",
      "dtypes: int64(5), object(2)\n",
      "memory usage: 273.6+ KB\n"
     ]
    }
   ],
   "source": [
    "# check missing value\n",
    "data.info()"
   ]
  },
  {
   "cell_type": "markdown",
   "id": "4cd3a5df",
   "metadata": {},
   "source": [
    "The number of non-missing value equals the number of records. Thus, there is no missing values"
   ]
  },
  {
   "cell_type": "markdown",
   "id": "ab51fc65",
   "metadata": {},
   "source": [
    "#### Let's investigate the reason of unreasonable AOV"
   ]
  },
  {
   "cell_type": "code",
   "execution_count": 7,
   "id": "d1ac79b1",
   "metadata": {},
   "outputs": [
    {
     "data": {
      "text/html": [
       "<div>\n",
       "<style scoped>\n",
       "    .dataframe tbody tr th:only-of-type {\n",
       "        vertical-align: middle;\n",
       "    }\n",
       "\n",
       "    .dataframe tbody tr th {\n",
       "        vertical-align: top;\n",
       "    }\n",
       "\n",
       "    .dataframe thead th {\n",
       "        text-align: right;\n",
       "    }\n",
       "</style>\n",
       "<table border=\"1\" class=\"dataframe\">\n",
       "  <thead>\n",
       "    <tr style=\"text-align: right;\">\n",
       "      <th></th>\n",
       "      <th>order_id</th>\n",
       "      <th>shop_id</th>\n",
       "      <th>user_id</th>\n",
       "      <th>order_amount</th>\n",
       "      <th>total_items</th>\n",
       "    </tr>\n",
       "  </thead>\n",
       "  <tbody>\n",
       "    <tr>\n",
       "      <th>count</th>\n",
       "      <td>5000</td>\n",
       "      <td>5000</td>\n",
       "      <td>5000</td>\n",
       "      <td>5000</td>\n",
       "      <td>5000</td>\n",
       "    </tr>\n",
       "    <tr>\n",
       "      <th>mean</th>\n",
       "      <td>2500</td>\n",
       "      <td>50</td>\n",
       "      <td>849</td>\n",
       "      <td>3145</td>\n",
       "      <td>8</td>\n",
       "    </tr>\n",
       "    <tr>\n",
       "      <th>std</th>\n",
       "      <td>1443</td>\n",
       "      <td>29</td>\n",
       "      <td>87</td>\n",
       "      <td>41282</td>\n",
       "      <td>116</td>\n",
       "    </tr>\n",
       "    <tr>\n",
       "      <th>min</th>\n",
       "      <td>1</td>\n",
       "      <td>1</td>\n",
       "      <td>607</td>\n",
       "      <td>90</td>\n",
       "      <td>1</td>\n",
       "    </tr>\n",
       "    <tr>\n",
       "      <th>25%</th>\n",
       "      <td>1250</td>\n",
       "      <td>24</td>\n",
       "      <td>775</td>\n",
       "      <td>163</td>\n",
       "      <td>1</td>\n",
       "    </tr>\n",
       "    <tr>\n",
       "      <th>50%</th>\n",
       "      <td>2500</td>\n",
       "      <td>50</td>\n",
       "      <td>849</td>\n",
       "      <td>284</td>\n",
       "      <td>2</td>\n",
       "    </tr>\n",
       "    <tr>\n",
       "      <th>75%</th>\n",
       "      <td>3750</td>\n",
       "      <td>75</td>\n",
       "      <td>925</td>\n",
       "      <td>390</td>\n",
       "      <td>3</td>\n",
       "    </tr>\n",
       "    <tr>\n",
       "      <th>max</th>\n",
       "      <td>5000</td>\n",
       "      <td>100</td>\n",
       "      <td>999</td>\n",
       "      <td>704000</td>\n",
       "      <td>2000</td>\n",
       "    </tr>\n",
       "  </tbody>\n",
       "</table>\n",
       "</div>"
      ],
      "text/plain": [
       "       order_id  shop_id  user_id  order_amount  total_items\n",
       "count      5000     5000     5000          5000         5000\n",
       "mean       2500       50      849          3145            8\n",
       "std        1443       29       87         41282          116\n",
       "min           1        1      607            90            1\n",
       "25%        1250       24      775           163            1\n",
       "50%        2500       50      849           284            2\n",
       "75%        3750       75      925           390            3\n",
       "max        5000      100      999        704000         2000"
      ]
     },
     "execution_count": 7,
     "metadata": {},
     "output_type": "execute_result"
    }
   ],
   "source": [
    "# Use describe() function to check the distribution of numeric features\n",
    "data.describe().astype(int)"
   ]
  },
  {
   "cell_type": "markdown",
   "id": "c36b87ad",
   "metadata": {},
   "source": [
    "We could also visualize the distribution of order amount with histogram and boxplot"
   ]
  },
  {
   "cell_type": "code",
   "execution_count": 8,
   "id": "40878d7e",
   "metadata": {},
   "outputs": [
    {
     "data": {
      "text/plain": [
       "Text(0.5, 1.0, 'Order Amount Distribution')"
      ]
     },
     "execution_count": 8,
     "metadata": {},
     "output_type": "execute_result"
    },
    {
     "data": {
      "image/png": "[encoded data removed]",
      "text/plain": [
       "<Figure size 432x288 with 1 Axes>"
      ]
     },
     "metadata": {
      "needs_background": "light"
     },
     "output_type": "display_data"
    }
   ],
   "source": [
    "ax = sns.distplot(data['order_amount'], hist=True, bins=20)\n",
    "ax.set_xlabel('Order Amount', fontsize=12)\n",
    "ax.set_ylabel('Density', fontsize=12)\n",
    "ax.set_title('Order Amount Distribution', fontsize=12)"
   ]
  },
  {
   "cell_type": "code",
   "execution_count": 9,
   "id": "167ea76b",
   "metadata": {},
   "outputs": [
    {
     "data": {
      "image/png": "[encoded data removed]",
      "text/plain": [
       "<Figure size 576x360 with 1 Axes>"
      ]
     },
     "metadata": {
      "needs_background": "light"
     },
     "output_type": "display_data"
    }
   ],
   "source": [
    "fig, ax1= plt.subplots(figsize=(8,5))\n",
    "sns.boxplot(y='order_amount', data=data, ax=ax1)\n",
    "ax1.set_ylabel('order_amount', fontsize=15)\n",
    "ax1.set_title('Order Amount Distribution', fontsize=15)\n",
    "ax1.tick_params(labelsize=15)\n",
    "sns.despine()"
   ]
  },
  {
   "cell_type": "markdown",
   "id": "59208d65",
   "metadata": {},
   "source": [
    "#### Based on the table and plots, we could tell that the distribution of the order_amount is quite skewed, with relatively large standard deviance 41282. The order_amount column includes large outliers (\\\\$704,000). This amount is relatively large to most order amounts, which make the box of boxplot extremely narrow. Thinking from reality, an order of sneakers of \\\\$704000 is rarely happened."
   ]
  },
  {
   "cell_type": "markdown",
   "id": "3aa4913e",
   "metadata": {},
   "source": [
    "#### Let's look at the records with order_amount=$704000"
   ]
  },
  {
   "cell_type": "code",
   "execution_count": 10,
   "id": "cbf305ab",
   "metadata": {
    "scrolled": true
   },
   "outputs": [
    {
     "data": {
      "text/html": [
       "<div>\n",
       "<style scoped>\n",
       "    .dataframe tbody tr th:only-of-type {\n",
       "        vertical-align: middle;\n",
       "    }\n",
       "\n",
       "    .dataframe tbody tr th {\n",
       "        vertical-align: top;\n",
       "    }\n",
       "\n",
       "    .dataframe thead th {\n",
       "        text-align: right;\n",
       "    }\n",
       "</style>\n",
       "<table border=\"1\" class=\"dataframe\">\n",
       "  <thead>\n",
       "    <tr style=\"text-align: right;\">\n",
       "      <th></th>\n",
       "      <th>order_id</th>\n",
       "      <th>shop_id</th>\n",
       "      <th>user_id</th>\n",
       "      <th>order_amount</th>\n",
       "      <th>total_items</th>\n",
       "      <th>payment_method</th>\n",
       "      <th>created_at</th>\n",
       "    </tr>\n",
       "  </thead>\n",
       "  <tbody>\n",
       "    <tr>\n",
       "      <th>15</th>\n",
       "      <td>16</td>\n",
       "      <td>42</td>\n",
       "      <td>607</td>\n",
       "      <td>704000</td>\n",
       "      <td>2000</td>\n",
       "      <td>credit_card</td>\n",
       "      <td>2017-03-07 4:00:00</td>\n",
       "    </tr>\n",
       "    <tr>\n",
       "      <th>60</th>\n",
       "      <td>61</td>\n",
       "      <td>42</td>\n",
       "      <td>607</td>\n",
       "      <td>704000</td>\n",
       "      <td>2000</td>\n",
       "      <td>credit_card</td>\n",
       "      <td>2017-03-04 4:00:00</td>\n",
       "    </tr>\n",
       "    <tr>\n",
       "      <th>520</th>\n",
       "      <td>521</td>\n",
       "      <td>42</td>\n",
       "      <td>607</td>\n",
       "      <td>704000</td>\n",
       "      <td>2000</td>\n",
       "      <td>credit_card</td>\n",
       "      <td>2017-03-02 4:00:00</td>\n",
       "    </tr>\n",
       "    <tr>\n",
       "      <th>1104</th>\n",
       "      <td>1105</td>\n",
       "      <td>42</td>\n",
       "      <td>607</td>\n",
       "      <td>704000</td>\n",
       "      <td>2000</td>\n",
       "      <td>credit_card</td>\n",
       "      <td>2017-03-24 4:00:00</td>\n",
       "    </tr>\n",
       "    <tr>\n",
       "      <th>1362</th>\n",
       "      <td>1363</td>\n",
       "      <td>42</td>\n",
       "      <td>607</td>\n",
       "      <td>704000</td>\n",
       "      <td>2000</td>\n",
       "      <td>credit_card</td>\n",
       "      <td>2017-03-15 4:00:00</td>\n",
       "    </tr>\n",
       "    <tr>\n",
       "      <th>1436</th>\n",
       "      <td>1437</td>\n",
       "      <td>42</td>\n",
       "      <td>607</td>\n",
       "      <td>704000</td>\n",
       "      <td>2000</td>\n",
       "      <td>credit_card</td>\n",
       "      <td>2017-03-11 4:00:00</td>\n",
       "    </tr>\n",
       "    <tr>\n",
       "      <th>1562</th>\n",
       "      <td>1563</td>\n",
       "      <td>42</td>\n",
       "      <td>607</td>\n",
       "      <td>704000</td>\n",
       "      <td>2000</td>\n",
       "      <td>credit_card</td>\n",
       "      <td>2017-03-19 4:00:00</td>\n",
       "    </tr>\n",
       "    <tr>\n",
       "      <th>1602</th>\n",
       "      <td>1603</td>\n",
       "      <td>42</td>\n",
       "      <td>607</td>\n",
       "      <td>704000</td>\n",
       "      <td>2000</td>\n",
       "      <td>credit_card</td>\n",
       "      <td>2017-03-17 4:00:00</td>\n",
       "    </tr>\n",
       "    <tr>\n",
       "      <th>2153</th>\n",
       "      <td>2154</td>\n",
       "      <td>42</td>\n",
       "      <td>607</td>\n",
       "      <td>704000</td>\n",
       "      <td>2000</td>\n",
       "      <td>credit_card</td>\n",
       "      <td>2017-03-12 4:00:00</td>\n",
       "    </tr>\n",
       "    <tr>\n",
       "      <th>2297</th>\n",
       "      <td>2298</td>\n",
       "      <td>42</td>\n",
       "      <td>607</td>\n",
       "      <td>704000</td>\n",
       "      <td>2000</td>\n",
       "      <td>credit_card</td>\n",
       "      <td>2017-03-07 4:00:00</td>\n",
       "    </tr>\n",
       "    <tr>\n",
       "      <th>2835</th>\n",
       "      <td>2836</td>\n",
       "      <td>42</td>\n",
       "      <td>607</td>\n",
       "      <td>704000</td>\n",
       "      <td>2000</td>\n",
       "      <td>credit_card</td>\n",
       "      <td>2017-03-28 4:00:00</td>\n",
       "    </tr>\n",
       "    <tr>\n",
       "      <th>2969</th>\n",
       "      <td>2970</td>\n",
       "      <td>42</td>\n",
       "      <td>607</td>\n",
       "      <td>704000</td>\n",
       "      <td>2000</td>\n",
       "      <td>credit_card</td>\n",
       "      <td>2017-03-28 4:00:00</td>\n",
       "    </tr>\n",
       "    <tr>\n",
       "      <th>3332</th>\n",
       "      <td>3333</td>\n",
       "      <td>42</td>\n",
       "      <td>607</td>\n",
       "      <td>704000</td>\n",
       "      <td>2000</td>\n",
       "      <td>credit_card</td>\n",
       "      <td>2017-03-24 4:00:00</td>\n",
       "    </tr>\n",
       "    <tr>\n",
       "      <th>4056</th>\n",
       "      <td>4057</td>\n",
       "      <td>42</td>\n",
       "      <td>607</td>\n",
       "      <td>704000</td>\n",
       "      <td>2000</td>\n",
       "      <td>credit_card</td>\n",
       "      <td>2017-03-28 4:00:00</td>\n",
       "    </tr>\n",
       "    <tr>\n",
       "      <th>4646</th>\n",
       "      <td>4647</td>\n",
       "      <td>42</td>\n",
       "      <td>607</td>\n",
       "      <td>704000</td>\n",
       "      <td>2000</td>\n",
       "      <td>credit_card</td>\n",
       "      <td>2017-03-02 4:00:00</td>\n",
       "    </tr>\n",
       "    <tr>\n",
       "      <th>4868</th>\n",
       "      <td>4869</td>\n",
       "      <td>42</td>\n",
       "      <td>607</td>\n",
       "      <td>704000</td>\n",
       "      <td>2000</td>\n",
       "      <td>credit_card</td>\n",
       "      <td>2017-03-22 4:00:00</td>\n",
       "    </tr>\n",
       "    <tr>\n",
       "      <th>4882</th>\n",
       "      <td>4883</td>\n",
       "      <td>42</td>\n",
       "      <td>607</td>\n",
       "      <td>704000</td>\n",
       "      <td>2000</td>\n",
       "      <td>credit_card</td>\n",
       "      <td>2017-03-25 4:00:00</td>\n",
       "    </tr>\n",
       "  </tbody>\n",
       "</table>\n",
       "</div>"
      ],
      "text/plain": [
       "      order_id  shop_id  user_id  order_amount  total_items payment_method  \\\n",
       "15          16       42      607        704000         2000    credit_card   \n",
       "60          61       42      607        704000         2000    credit_card   \n",
       "520        521       42      607        704000         2000    credit_card   \n",
       "1104      1105       42      607        704000         2000    credit_card   \n",
       "1362      1363       42      607        704000         2000    credit_card   \n",
       "1436      1437       42      607        704000         2000    credit_card   \n",
       "1562      1563       42      607        704000         2000    credit_card   \n",
       "1602      1603       42      607        704000         2000    credit_card   \n",
       "2153      2154       42      607        704000         2000    credit_card   \n",
       "2297      2298       42      607        704000         2000    credit_card   \n",
       "2835      2836       42      607        704000         2000    credit_card   \n",
       "2969      2970       42      607        704000         2000    credit_card   \n",
       "3332      3333       42      607        704000         2000    credit_card   \n",
       "4056      4057       42      607        704000         2000    credit_card   \n",
       "4646      4647       42      607        704000         2000    credit_card   \n",
       "4868      4869       42      607        704000         2000    credit_card   \n",
       "4882      4883       42      607        704000         2000    credit_card   \n",
       "\n",
       "              created_at  \n",
       "15    2017-03-07 4:00:00  \n",
       "60    2017-03-04 4:00:00  \n",
       "520   2017-03-02 4:00:00  \n",
       "1104  2017-03-24 4:00:00  \n",
       "1362  2017-03-15 4:00:00  \n",
       "1436  2017-03-11 4:00:00  \n",
       "1562  2017-03-19 4:00:00  \n",
       "1602  2017-03-17 4:00:00  \n",
       "2153  2017-03-12 4:00:00  \n",
       "2297  2017-03-07 4:00:00  \n",
       "2835  2017-03-28 4:00:00  \n",
       "2969  2017-03-28 4:00:00  \n",
       "3332  2017-03-24 4:00:00  \n",
       "4056  2017-03-28 4:00:00  \n",
       "4646  2017-03-02 4:00:00  \n",
       "4868  2017-03-22 4:00:00  \n",
       "4882  2017-03-25 4:00:00  "
      ]
     },
     "execution_count": 10,
     "metadata": {},
     "output_type": "execute_result"
    }
   ],
   "source": [
    "data[data['order_amount']==704000]"
   ]
  },
  {
   "cell_type": "markdown",
   "id": "168afd13",
   "metadata": {},
   "source": [
    "#### We could tell that all orders with $704,000 contains 2000 items and happened at the exact same time (4:00:00) on different date (some even in the same day) with same user_id 607, and same shop_id 42. All payment method is credit card. These orders have highly potential to be frauds. "
   ]
  },
  {
   "cell_type": "code",
   "execution_count": 11,
   "id": "86be3572",
   "metadata": {},
   "outputs": [
    {
     "data": {
      "text/plain": [
       "2       1832\n",
       "1       1830\n",
       "3        941\n",
       "4        293\n",
       "5         77\n",
       "2000      17\n",
       "6          9\n",
       "8          1\n",
       "Name: total_items, dtype: int64"
      ]
     },
     "execution_count": 11,
     "metadata": {},
     "output_type": "execute_result"
    }
   ],
   "source": [
    "# lets' check total_items columns\n",
    "data['total_items'].value_counts()"
   ]
  },
  {
   "cell_type": "code",
   "execution_count": 12,
   "id": "f6889be5",
   "metadata": {},
   "outputs": [
    {
     "data": {
      "image/png": "[encoded data removed]",
      "text/plain": [
       "<Figure size 1440x360 with 1 Axes>"
      ]
     },
     "metadata": {
      "needs_background": "light"
     },
     "output_type": "display_data"
    }
   ],
   "source": [
    "fig, ax1 = plt.subplots(figsize=(20,5))\n",
    "sns.countplot(x = 'total_items', data = data, ax = ax1)\n",
    "ax1.set_xlabel('Total Items', fontsize=15)\n",
    "ax1.set_ylabel('Count', fontsize=15)\n",
    "ax1.set_title('Total Items Distribution', fontsize=15)\n",
    "ax1.tick_params(labelsize=12)\n",
    "sns.despine()"
   ]
  },
  {
   "cell_type": "markdown",
   "id": "22a8b11b",
   "metadata": {},
   "source": [
    "Except the order with 2000 items, all other amounts of total_items in an order are in reasonable range from 1-8"
   ]
  },
  {
   "cell_type": "markdown",
   "id": "55dbdd76",
   "metadata": {},
   "source": [
    "#### Next, let's look at the unit price (order_amount divided by total_items)"
   ]
  },
  {
   "cell_type": "code",
   "execution_count": 13,
   "id": "c7f2f46e",
   "metadata": {},
   "outputs": [],
   "source": [
    "data['unit_price'] = data['order_amount']/data['total_items']"
   ]
  },
  {
   "cell_type": "code",
   "execution_count": 14,
   "id": "17aa6519",
   "metadata": {},
   "outputs": [
    {
     "data": {
      "text/plain": [
       "count     5000.000000\n",
       "mean       387.742800\n",
       "std       2441.963725\n",
       "min         90.000000\n",
       "25%        133.000000\n",
       "50%        153.000000\n",
       "75%        169.000000\n",
       "max      25725.000000\n",
       "Name: unit_price, dtype: float64"
      ]
     },
     "execution_count": 14,
     "metadata": {},
     "output_type": "execute_result"
    }
   ],
   "source": [
    "data['unit_price'].describe()"
   ]
  },
  {
   "cell_type": "code",
   "execution_count": 15,
   "id": "b09dbfc6",
   "metadata": {
    "scrolled": true
   },
   "outputs": [
    {
     "data": {
      "text/plain": [
       "Text(0.5, 1.0, 'Unit Price Distribution')"
      ]
     },
     "execution_count": 15,
     "metadata": {},
     "output_type": "execute_result"
    },
    {
     "data": {
      "image/png": "[encoded data removed]",
      "text/plain": [
       "<Figure size 432x288 with 1 Axes>"
      ]
     },
     "metadata": {
      "needs_background": "light"
     },
     "output_type": "display_data"
    }
   ],
   "source": [
    "ax = sns.distplot(data['unit_price'], hist=True)\n",
    "ax.set_xlabel('Unit Price', fontsize=12)\n",
    "ax.set_ylabel('Density', fontsize=12)\n",
    "ax.set_title('Unit Price Distribution', fontsize=12)"
   ]
  },
  {
   "cell_type": "markdown",
   "id": "aba11754",
   "metadata": {},
   "source": [
    "#### We could tell that there is an outlier of unit price ($25725 per shoes). It is not reasonable for affordable sneakers. "
   ]
  },
  {
   "cell_type": "code",
   "execution_count": 16,
   "id": "f8cdd967",
   "metadata": {
    "scrolled": true
   },
   "outputs": [
    {
     "data": {
      "text/html": [
       "<div>\n",
       "<style scoped>\n",
       "    .dataframe tbody tr th:only-of-type {\n",
       "        vertical-align: middle;\n",
       "    }\n",
       "\n",
       "    .dataframe tbody tr th {\n",
       "        vertical-align: top;\n",
       "    }\n",
       "\n",
       "    .dataframe thead th {\n",
       "        text-align: right;\n",
       "    }\n",
       "</style>\n",
       "<table border=\"1\" class=\"dataframe\">\n",
       "  <thead>\n",
       "    <tr style=\"text-align: right;\">\n",
       "      <th></th>\n",
       "      <th>order_id</th>\n",
       "      <th>shop_id</th>\n",
       "      <th>user_id</th>\n",
       "      <th>order_amount</th>\n",
       "      <th>total_items</th>\n",
       "      <th>payment_method</th>\n",
       "      <th>created_at</th>\n",
       "      <th>unit_price</th>\n",
       "    </tr>\n",
       "  </thead>\n",
       "  <tbody>\n",
       "    <tr>\n",
       "      <th>160</th>\n",
       "      <td>161</td>\n",
       "      <td>78</td>\n",
       "      <td>990</td>\n",
       "      <td>25725</td>\n",
       "      <td>1</td>\n",
       "      <td>credit_card</td>\n",
       "      <td>2017-03-12 5:56:57</td>\n",
       "      <td>25725.0</td>\n",
       "    </tr>\n",
       "    <tr>\n",
       "      <th>490</th>\n",
       "      <td>491</td>\n",
       "      <td>78</td>\n",
       "      <td>936</td>\n",
       "      <td>51450</td>\n",
       "      <td>2</td>\n",
       "      <td>debit</td>\n",
       "      <td>2017-03-26 17:08:19</td>\n",
       "      <td>25725.0</td>\n",
       "    </tr>\n",
       "    <tr>\n",
       "      <th>493</th>\n",
       "      <td>494</td>\n",
       "      <td>78</td>\n",
       "      <td>983</td>\n",
       "      <td>51450</td>\n",
       "      <td>2</td>\n",
       "      <td>cash</td>\n",
       "      <td>2017-03-16 21:39:35</td>\n",
       "      <td>25725.0</td>\n",
       "    </tr>\n",
       "    <tr>\n",
       "      <th>511</th>\n",
       "      <td>512</td>\n",
       "      <td>78</td>\n",
       "      <td>967</td>\n",
       "      <td>51450</td>\n",
       "      <td>2</td>\n",
       "      <td>cash</td>\n",
       "      <td>2017-03-09 7:23:14</td>\n",
       "      <td>25725.0</td>\n",
       "    </tr>\n",
       "    <tr>\n",
       "      <th>617</th>\n",
       "      <td>618</td>\n",
       "      <td>78</td>\n",
       "      <td>760</td>\n",
       "      <td>51450</td>\n",
       "      <td>2</td>\n",
       "      <td>cash</td>\n",
       "      <td>2017-03-18 11:18:42</td>\n",
       "      <td>25725.0</td>\n",
       "    </tr>\n",
       "    <tr>\n",
       "      <th>691</th>\n",
       "      <td>692</td>\n",
       "      <td>78</td>\n",
       "      <td>878</td>\n",
       "      <td>154350</td>\n",
       "      <td>6</td>\n",
       "      <td>debit</td>\n",
       "      <td>2017-03-27 22:51:43</td>\n",
       "      <td>25725.0</td>\n",
       "    </tr>\n",
       "    <tr>\n",
       "      <th>1056</th>\n",
       "      <td>1057</td>\n",
       "      <td>78</td>\n",
       "      <td>800</td>\n",
       "      <td>25725</td>\n",
       "      <td>1</td>\n",
       "      <td>debit</td>\n",
       "      <td>2017-03-15 10:16:45</td>\n",
       "      <td>25725.0</td>\n",
       "    </tr>\n",
       "    <tr>\n",
       "      <th>1193</th>\n",
       "      <td>1194</td>\n",
       "      <td>78</td>\n",
       "      <td>944</td>\n",
       "      <td>25725</td>\n",
       "      <td>1</td>\n",
       "      <td>debit</td>\n",
       "      <td>2017-03-16 16:38:26</td>\n",
       "      <td>25725.0</td>\n",
       "    </tr>\n",
       "    <tr>\n",
       "      <th>1204</th>\n",
       "      <td>1205</td>\n",
       "      <td>78</td>\n",
       "      <td>970</td>\n",
       "      <td>25725</td>\n",
       "      <td>1</td>\n",
       "      <td>credit_card</td>\n",
       "      <td>2017-03-17 22:32:21</td>\n",
       "      <td>25725.0</td>\n",
       "    </tr>\n",
       "    <tr>\n",
       "      <th>1259</th>\n",
       "      <td>1260</td>\n",
       "      <td>78</td>\n",
       "      <td>775</td>\n",
       "      <td>77175</td>\n",
       "      <td>3</td>\n",
       "      <td>credit_card</td>\n",
       "      <td>2017-03-27 9:27:20</td>\n",
       "      <td>25725.0</td>\n",
       "    </tr>\n",
       "    <tr>\n",
       "      <th>1384</th>\n",
       "      <td>1385</td>\n",
       "      <td>78</td>\n",
       "      <td>867</td>\n",
       "      <td>25725</td>\n",
       "      <td>1</td>\n",
       "      <td>cash</td>\n",
       "      <td>2017-03-17 16:38:06</td>\n",
       "      <td>25725.0</td>\n",
       "    </tr>\n",
       "    <tr>\n",
       "      <th>1419</th>\n",
       "      <td>1420</td>\n",
       "      <td>78</td>\n",
       "      <td>912</td>\n",
       "      <td>25725</td>\n",
       "      <td>1</td>\n",
       "      <td>cash</td>\n",
       "      <td>2017-03-30 12:23:43</td>\n",
       "      <td>25725.0</td>\n",
       "    </tr>\n",
       "    <tr>\n",
       "      <th>1452</th>\n",
       "      <td>1453</td>\n",
       "      <td>78</td>\n",
       "      <td>812</td>\n",
       "      <td>25725</td>\n",
       "      <td>1</td>\n",
       "      <td>credit_card</td>\n",
       "      <td>2017-03-17 18:09:54</td>\n",
       "      <td>25725.0</td>\n",
       "    </tr>\n",
       "    <tr>\n",
       "      <th>1529</th>\n",
       "      <td>1530</td>\n",
       "      <td>78</td>\n",
       "      <td>810</td>\n",
       "      <td>51450</td>\n",
       "      <td>2</td>\n",
       "      <td>cash</td>\n",
       "      <td>2017-03-29 7:12:01</td>\n",
       "      <td>25725.0</td>\n",
       "    </tr>\n",
       "    <tr>\n",
       "      <th>2270</th>\n",
       "      <td>2271</td>\n",
       "      <td>78</td>\n",
       "      <td>855</td>\n",
       "      <td>25725</td>\n",
       "      <td>1</td>\n",
       "      <td>credit_card</td>\n",
       "      <td>2017-03-14 23:58:22</td>\n",
       "      <td>25725.0</td>\n",
       "    </tr>\n",
       "    <tr>\n",
       "      <th>2452</th>\n",
       "      <td>2453</td>\n",
       "      <td>78</td>\n",
       "      <td>709</td>\n",
       "      <td>51450</td>\n",
       "      <td>2</td>\n",
       "      <td>cash</td>\n",
       "      <td>2017-03-27 11:04:04</td>\n",
       "      <td>25725.0</td>\n",
       "    </tr>\n",
       "    <tr>\n",
       "      <th>2492</th>\n",
       "      <td>2493</td>\n",
       "      <td>78</td>\n",
       "      <td>834</td>\n",
       "      <td>102900</td>\n",
       "      <td>4</td>\n",
       "      <td>debit</td>\n",
       "      <td>2017-03-04 4:37:34</td>\n",
       "      <td>25725.0</td>\n",
       "    </tr>\n",
       "    <tr>\n",
       "      <th>2495</th>\n",
       "      <td>2496</td>\n",
       "      <td>78</td>\n",
       "      <td>707</td>\n",
       "      <td>51450</td>\n",
       "      <td>2</td>\n",
       "      <td>cash</td>\n",
       "      <td>2017-03-26 4:38:52</td>\n",
       "      <td>25725.0</td>\n",
       "    </tr>\n",
       "    <tr>\n",
       "      <th>2512</th>\n",
       "      <td>2513</td>\n",
       "      <td>78</td>\n",
       "      <td>935</td>\n",
       "      <td>51450</td>\n",
       "      <td>2</td>\n",
       "      <td>debit</td>\n",
       "      <td>2017-03-18 18:57:13</td>\n",
       "      <td>25725.0</td>\n",
       "    </tr>\n",
       "    <tr>\n",
       "      <th>2548</th>\n",
       "      <td>2549</td>\n",
       "      <td>78</td>\n",
       "      <td>861</td>\n",
       "      <td>25725</td>\n",
       "      <td>1</td>\n",
       "      <td>cash</td>\n",
       "      <td>2017-03-17 19:36:00</td>\n",
       "      <td>25725.0</td>\n",
       "    </tr>\n",
       "    <tr>\n",
       "      <th>2564</th>\n",
       "      <td>2565</td>\n",
       "      <td>78</td>\n",
       "      <td>915</td>\n",
       "      <td>77175</td>\n",
       "      <td>3</td>\n",
       "      <td>debit</td>\n",
       "      <td>2017-03-25 1:19:35</td>\n",
       "      <td>25725.0</td>\n",
       "    </tr>\n",
       "    <tr>\n",
       "      <th>2690</th>\n",
       "      <td>2691</td>\n",
       "      <td>78</td>\n",
       "      <td>962</td>\n",
       "      <td>77175</td>\n",
       "      <td>3</td>\n",
       "      <td>debit</td>\n",
       "      <td>2017-03-22 7:33:25</td>\n",
       "      <td>25725.0</td>\n",
       "    </tr>\n",
       "    <tr>\n",
       "      <th>2773</th>\n",
       "      <td>2774</td>\n",
       "      <td>78</td>\n",
       "      <td>890</td>\n",
       "      <td>25725</td>\n",
       "      <td>1</td>\n",
       "      <td>cash</td>\n",
       "      <td>2017-03-26 10:36:43</td>\n",
       "      <td>25725.0</td>\n",
       "    </tr>\n",
       "    <tr>\n",
       "      <th>2818</th>\n",
       "      <td>2819</td>\n",
       "      <td>78</td>\n",
       "      <td>869</td>\n",
       "      <td>51450</td>\n",
       "      <td>2</td>\n",
       "      <td>debit</td>\n",
       "      <td>2017-03-17 6:25:51</td>\n",
       "      <td>25725.0</td>\n",
       "    </tr>\n",
       "    <tr>\n",
       "      <th>2821</th>\n",
       "      <td>2822</td>\n",
       "      <td>78</td>\n",
       "      <td>814</td>\n",
       "      <td>51450</td>\n",
       "      <td>2</td>\n",
       "      <td>cash</td>\n",
       "      <td>2017-03-02 17:13:25</td>\n",
       "      <td>25725.0</td>\n",
       "    </tr>\n",
       "    <tr>\n",
       "      <th>2906</th>\n",
       "      <td>2907</td>\n",
       "      <td>78</td>\n",
       "      <td>817</td>\n",
       "      <td>77175</td>\n",
       "      <td>3</td>\n",
       "      <td>debit</td>\n",
       "      <td>2017-03-16 3:45:46</td>\n",
       "      <td>25725.0</td>\n",
       "    </tr>\n",
       "    <tr>\n",
       "      <th>2922</th>\n",
       "      <td>2923</td>\n",
       "      <td>78</td>\n",
       "      <td>740</td>\n",
       "      <td>25725</td>\n",
       "      <td>1</td>\n",
       "      <td>debit</td>\n",
       "      <td>2017-03-12 20:10:58</td>\n",
       "      <td>25725.0</td>\n",
       "    </tr>\n",
       "    <tr>\n",
       "      <th>3085</th>\n",
       "      <td>3086</td>\n",
       "      <td>78</td>\n",
       "      <td>910</td>\n",
       "      <td>25725</td>\n",
       "      <td>1</td>\n",
       "      <td>cash</td>\n",
       "      <td>2017-03-26 1:59:27</td>\n",
       "      <td>25725.0</td>\n",
       "    </tr>\n",
       "    <tr>\n",
       "      <th>3101</th>\n",
       "      <td>3102</td>\n",
       "      <td>78</td>\n",
       "      <td>855</td>\n",
       "      <td>51450</td>\n",
       "      <td>2</td>\n",
       "      <td>credit_card</td>\n",
       "      <td>2017-03-21 5:10:34</td>\n",
       "      <td>25725.0</td>\n",
       "    </tr>\n",
       "    <tr>\n",
       "      <th>3151</th>\n",
       "      <td>3152</td>\n",
       "      <td>78</td>\n",
       "      <td>745</td>\n",
       "      <td>25725</td>\n",
       "      <td>1</td>\n",
       "      <td>credit_card</td>\n",
       "      <td>2017-03-18 13:13:07</td>\n",
       "      <td>25725.0</td>\n",
       "    </tr>\n",
       "    <tr>\n",
       "      <th>3167</th>\n",
       "      <td>3168</td>\n",
       "      <td>78</td>\n",
       "      <td>927</td>\n",
       "      <td>51450</td>\n",
       "      <td>2</td>\n",
       "      <td>cash</td>\n",
       "      <td>2017-03-12 12:23:08</td>\n",
       "      <td>25725.0</td>\n",
       "    </tr>\n",
       "    <tr>\n",
       "      <th>3403</th>\n",
       "      <td>3404</td>\n",
       "      <td>78</td>\n",
       "      <td>928</td>\n",
       "      <td>77175</td>\n",
       "      <td>3</td>\n",
       "      <td>debit</td>\n",
       "      <td>2017-03-16 9:45:05</td>\n",
       "      <td>25725.0</td>\n",
       "    </tr>\n",
       "    <tr>\n",
       "      <th>3440</th>\n",
       "      <td>3441</td>\n",
       "      <td>78</td>\n",
       "      <td>982</td>\n",
       "      <td>25725</td>\n",
       "      <td>1</td>\n",
       "      <td>debit</td>\n",
       "      <td>2017-03-19 19:02:54</td>\n",
       "      <td>25725.0</td>\n",
       "    </tr>\n",
       "    <tr>\n",
       "      <th>3705</th>\n",
       "      <td>3706</td>\n",
       "      <td>78</td>\n",
       "      <td>828</td>\n",
       "      <td>51450</td>\n",
       "      <td>2</td>\n",
       "      <td>credit_card</td>\n",
       "      <td>2017-03-14 20:43:15</td>\n",
       "      <td>25725.0</td>\n",
       "    </tr>\n",
       "    <tr>\n",
       "      <th>3724</th>\n",
       "      <td>3725</td>\n",
       "      <td>78</td>\n",
       "      <td>766</td>\n",
       "      <td>77175</td>\n",
       "      <td>3</td>\n",
       "      <td>credit_card</td>\n",
       "      <td>2017-03-16 14:13:26</td>\n",
       "      <td>25725.0</td>\n",
       "    </tr>\n",
       "    <tr>\n",
       "      <th>3780</th>\n",
       "      <td>3781</td>\n",
       "      <td>78</td>\n",
       "      <td>889</td>\n",
       "      <td>25725</td>\n",
       "      <td>1</td>\n",
       "      <td>cash</td>\n",
       "      <td>2017-03-11 21:14:50</td>\n",
       "      <td>25725.0</td>\n",
       "    </tr>\n",
       "    <tr>\n",
       "      <th>4040</th>\n",
       "      <td>4041</td>\n",
       "      <td>78</td>\n",
       "      <td>852</td>\n",
       "      <td>25725</td>\n",
       "      <td>1</td>\n",
       "      <td>cash</td>\n",
       "      <td>2017-03-02 14:31:12</td>\n",
       "      <td>25725.0</td>\n",
       "    </tr>\n",
       "    <tr>\n",
       "      <th>4079</th>\n",
       "      <td>4080</td>\n",
       "      <td>78</td>\n",
       "      <td>946</td>\n",
       "      <td>51450</td>\n",
       "      <td>2</td>\n",
       "      <td>cash</td>\n",
       "      <td>2017-03-20 21:14:00</td>\n",
       "      <td>25725.0</td>\n",
       "    </tr>\n",
       "    <tr>\n",
       "      <th>4192</th>\n",
       "      <td>4193</td>\n",
       "      <td>78</td>\n",
       "      <td>787</td>\n",
       "      <td>77175</td>\n",
       "      <td>3</td>\n",
       "      <td>credit_card</td>\n",
       "      <td>2017-03-18 9:25:32</td>\n",
       "      <td>25725.0</td>\n",
       "    </tr>\n",
       "    <tr>\n",
       "      <th>4311</th>\n",
       "      <td>4312</td>\n",
       "      <td>78</td>\n",
       "      <td>960</td>\n",
       "      <td>51450</td>\n",
       "      <td>2</td>\n",
       "      <td>debit</td>\n",
       "      <td>2017-03-01 3:02:10</td>\n",
       "      <td>25725.0</td>\n",
       "    </tr>\n",
       "    <tr>\n",
       "      <th>4412</th>\n",
       "      <td>4413</td>\n",
       "      <td>78</td>\n",
       "      <td>756</td>\n",
       "      <td>51450</td>\n",
       "      <td>2</td>\n",
       "      <td>debit</td>\n",
       "      <td>2017-03-02 4:13:39</td>\n",
       "      <td>25725.0</td>\n",
       "    </tr>\n",
       "    <tr>\n",
       "      <th>4420</th>\n",
       "      <td>4421</td>\n",
       "      <td>78</td>\n",
       "      <td>969</td>\n",
       "      <td>77175</td>\n",
       "      <td>3</td>\n",
       "      <td>debit</td>\n",
       "      <td>2017-03-09 15:21:35</td>\n",
       "      <td>25725.0</td>\n",
       "    </tr>\n",
       "    <tr>\n",
       "      <th>4505</th>\n",
       "      <td>4506</td>\n",
       "      <td>78</td>\n",
       "      <td>866</td>\n",
       "      <td>25725</td>\n",
       "      <td>1</td>\n",
       "      <td>debit</td>\n",
       "      <td>2017-03-22 22:06:01</td>\n",
       "      <td>25725.0</td>\n",
       "    </tr>\n",
       "    <tr>\n",
       "      <th>4584</th>\n",
       "      <td>4585</td>\n",
       "      <td>78</td>\n",
       "      <td>997</td>\n",
       "      <td>25725</td>\n",
       "      <td>1</td>\n",
       "      <td>cash</td>\n",
       "      <td>2017-03-25 21:48:44</td>\n",
       "      <td>25725.0</td>\n",
       "    </tr>\n",
       "    <tr>\n",
       "      <th>4715</th>\n",
       "      <td>4716</td>\n",
       "      <td>78</td>\n",
       "      <td>818</td>\n",
       "      <td>77175</td>\n",
       "      <td>3</td>\n",
       "      <td>debit</td>\n",
       "      <td>2017-03-05 5:10:44</td>\n",
       "      <td>25725.0</td>\n",
       "    </tr>\n",
       "    <tr>\n",
       "      <th>4918</th>\n",
       "      <td>4919</td>\n",
       "      <td>78</td>\n",
       "      <td>823</td>\n",
       "      <td>25725</td>\n",
       "      <td>1</td>\n",
       "      <td>cash</td>\n",
       "      <td>2017-03-15 13:26:46</td>\n",
       "      <td>25725.0</td>\n",
       "    </tr>\n",
       "  </tbody>\n",
       "</table>\n",
       "</div>"
      ],
      "text/plain": [
       "      order_id  shop_id  user_id  order_amount  total_items payment_method  \\\n",
       "160        161       78      990         25725            1    credit_card   \n",
       "490        491       78      936         51450            2          debit   \n",
       "493        494       78      983         51450            2           cash   \n",
       "511        512       78      967         51450            2           cash   \n",
       "617        618       78      760         51450            2           cash   \n",
       "691        692       78      878        154350            6          debit   \n",
       "1056      1057       78      800         25725            1          debit   \n",
       "1193      1194       78      944         25725            1          debit   \n",
       "1204      1205       78      970         25725            1    credit_card   \n",
       "1259      1260       78      775         77175            3    credit_card   \n",
       "1384      1385       78      867         25725            1           cash   \n",
       "1419      1420       78      912         25725            1           cash   \n",
       "1452      1453       78      812         25725            1    credit_card   \n",
       "1529      1530       78      810         51450            2           cash   \n",
       "2270      2271       78      855         25725            1    credit_card   \n",
       "2452      2453       78      709         51450            2           cash   \n",
       "2492      2493       78      834        102900            4          debit   \n",
       "2495      2496       78      707         51450            2           cash   \n",
       "2512      2513       78      935         51450            2          debit   \n",
       "2548      2549       78      861         25725            1           cash   \n",
       "2564      2565       78      915         77175            3          debit   \n",
       "2690      2691       78      962         77175            3          debit   \n",
       "2773      2774       78      890         25725            1           cash   \n",
       "2818      2819       78      869         51450            2          debit   \n",
       "2821      2822       78      814         51450            2           cash   \n",
       "2906      2907       78      817         77175            3          debit   \n",
       "2922      2923       78      740         25725            1          debit   \n",
       "3085      3086       78      910         25725            1           cash   \n",
       "3101      3102       78      855         51450            2    credit_card   \n",
       "3151      3152       78      745         25725            1    credit_card   \n",
       "3167      3168       78      927         51450            2           cash   \n",
       "3403      3404       78      928         77175            3          debit   \n",
       "3440      3441       78      982         25725            1          debit   \n",
       "3705      3706       78      828         51450            2    credit_card   \n",
       "3724      3725       78      766         77175            3    credit_card   \n",
       "3780      3781       78      889         25725            1           cash   \n",
       "4040      4041       78      852         25725            1           cash   \n",
       "4079      4080       78      946         51450            2           cash   \n",
       "4192      4193       78      787         77175            3    credit_card   \n",
       "4311      4312       78      960         51450            2          debit   \n",
       "4412      4413       78      756         51450            2          debit   \n",
       "4420      4421       78      969         77175            3          debit   \n",
       "4505      4506       78      866         25725            1          debit   \n",
       "4584      4585       78      997         25725            1           cash   \n",
       "4715      4716       78      818         77175            3          debit   \n",
       "4918      4919       78      823         25725            1           cash   \n",
       "\n",
       "               created_at  unit_price  \n",
       "160    2017-03-12 5:56:57     25725.0  \n",
       "490   2017-03-26 17:08:19     25725.0  \n",
       "493   2017-03-16 21:39:35     25725.0  \n",
       "511    2017-03-09 7:23:14     25725.0  \n",
       "617   2017-03-18 11:18:42     25725.0  \n",
       "691   2017-03-27 22:51:43     25725.0  \n",
       "1056  2017-03-15 10:16:45     25725.0  \n",
       "1193  2017-03-16 16:38:26     25725.0  \n",
       "1204  2017-03-17 22:32:21     25725.0  \n",
       "1259   2017-03-27 9:27:20     25725.0  \n",
       "1384  2017-03-17 16:38:06     25725.0  \n",
       "1419  2017-03-30 12:23:43     25725.0  \n",
       "1452  2017-03-17 18:09:54     25725.0  \n",
       "1529   2017-03-29 7:12:01     25725.0  \n",
       "2270  2017-03-14 23:58:22     25725.0  \n",
       "2452  2017-03-27 11:04:04     25725.0  \n",
       "2492   2017-03-04 4:37:34     25725.0  \n",
       "2495   2017-03-26 4:38:52     25725.0  \n",
       "2512  2017-03-18 18:57:13     25725.0  \n",
       "2548  2017-03-17 19:36:00     25725.0  \n",
       "2564   2017-03-25 1:19:35     25725.0  \n",
       "2690   2017-03-22 7:33:25     25725.0  \n",
       "2773  2017-03-26 10:36:43     25725.0  \n",
       "2818   2017-03-17 6:25:51     25725.0  \n",
       "2821  2017-03-02 17:13:25     25725.0  \n",
       "2906   2017-03-16 3:45:46     25725.0  \n",
       "2922  2017-03-12 20:10:58     25725.0  \n",
       "3085   2017-03-26 1:59:27     25725.0  \n",
       "3101   2017-03-21 5:10:34     25725.0  \n",
       "3151  2017-03-18 13:13:07     25725.0  \n",
       "3167  2017-03-12 12:23:08     25725.0  \n",
       "3403   2017-03-16 9:45:05     25725.0  \n",
       "3440  2017-03-19 19:02:54     25725.0  \n",
       "3705  2017-03-14 20:43:15     25725.0  \n",
       "3724  2017-03-16 14:13:26     25725.0  \n",
       "3780  2017-03-11 21:14:50     25725.0  \n",
       "4040  2017-03-02 14:31:12     25725.0  \n",
       "4079  2017-03-20 21:14:00     25725.0  \n",
       "4192   2017-03-18 9:25:32     25725.0  \n",
       "4311   2017-03-01 3:02:10     25725.0  \n",
       "4412   2017-03-02 4:13:39     25725.0  \n",
       "4420  2017-03-09 15:21:35     25725.0  \n",
       "4505  2017-03-22 22:06:01     25725.0  \n",
       "4584  2017-03-25 21:48:44     25725.0  \n",
       "4715   2017-03-05 5:10:44     25725.0  \n",
       "4918  2017-03-15 13:26:46     25725.0  "
      ]
     },
     "execution_count": 16,
     "metadata": {},
     "output_type": "execute_result"
    }
   ],
   "source": [
    "data[data['unit_price']==25725]"
   ]
  },
  {
   "cell_type": "markdown",
   "id": "ee27a11b",
   "metadata": {},
   "source": [
    "#### If we look at all records with unit price $25725, we could tell that they all bought from shop 78. The sneakers are bought by different users with different payment_method. It also include cash payment, which has less probability of fraud. However, this is still suspicious. It may caused by price input typo in the system. More investigate may take with shop 78."
   ]
  },
  {
   "cell_type": "code",
   "execution_count": 17,
   "id": "f06e6e07",
   "metadata": {
    "scrolled": true
   },
   "outputs": [
    {
     "data": {
      "text/plain": [
       "count    4954.000000\n",
       "mean      152.475575\n",
       "std        31.260218\n",
       "min        90.000000\n",
       "25%       132.000000\n",
       "50%       153.000000\n",
       "75%       168.000000\n",
       "max       352.000000\n",
       "Name: unit_price, dtype: float64"
      ]
     },
     "execution_count": 17,
     "metadata": {},
     "output_type": "execute_result"
    }
   ],
   "source": [
    "data['unit_price'][data['unit_price']!=25725].describe()"
   ]
  },
  {
   "cell_type": "markdown",
   "id": "93a5dd35",
   "metadata": {},
   "source": [
    "If we remove the outliers, all other records have reasonable unit price."
   ]
  },
  {
   "cell_type": "code",
   "execution_count": 18,
   "id": "c02df431",
   "metadata": {
    "scrolled": true
   },
   "outputs": [
    {
     "data": {
      "text/plain": [
       "Text(0.5, 1.0, 'Unit Price Distribution without outliers')"
      ]
     },
     "execution_count": 18,
     "metadata": {},
     "output_type": "execute_result"
    },
    {
     "data": {
      "image/png": "[encoded data removed]",
      "text/plain": [
       "<Figure size 432x288 with 1 Axes>"
      ]
     },
     "metadata": {
      "needs_background": "light"
     },
     "output_type": "display_data"
    }
   ],
   "source": [
    "ax = sns.distplot(data['unit_price'][data['unit_price']!=25725], hist=True)\n",
    "ax.set_xlabel('Unit Price', fontsize=12)\n",
    "ax.set_ylabel('Density', fontsize=12)\n",
    "ax.set_title('Unit Price Distribution without outliers', fontsize=12)"
   ]
  },
  {
   "cell_type": "code",
   "execution_count": 19,
   "id": "6d339d2f",
   "metadata": {},
   "outputs": [
    {
     "data": {
      "image/png": "[encoded data removed]",
      "text/plain": [
       "<Figure size 576x360 with 1 Axes>"
      ]
     },
     "metadata": {
      "needs_background": "light"
     },
     "output_type": "display_data"
    }
   ],
   "source": [
    "fig, ax1= plt.subplots(figsize=(8,5))\n",
    "sns.boxplot(y='unit_price', data=data[data['unit_price']!=25725], ax=ax1)\n",
    "ax1.set_ylabel('unit_price', fontsize=15)\n",
    "ax1.set_title('Unit Price Distribution without outliers', fontsize=15)\n",
    "ax1.tick_params(labelsize=15)\n",
    "sns.despine()"
   ]
  },
  {
   "cell_type": "markdown",
   "id": "9ff1c48c",
   "metadata": {},
   "source": [
    "Once we remove the outlier, the unit price distribution looks more normal. It shows a bell shape in the histogram. We can witness an outlier in the boxplot. Currently, the maximum unit price is $352. Even it is still relatively large, this unit price is possible. For example, it could be limited edition or high-end sneakers."
   ]
  },
  {
   "cell_type": "markdown",
   "id": "99acf47f",
   "metadata": {},
   "source": [
    "#### Thus, a better way to evaluate the data is too remove the outliers and calculate AOV again"
   ]
  },
  {
   "cell_type": "code",
   "execution_count": 20,
   "id": "e7ac883b",
   "metadata": {},
   "outputs": [],
   "source": [
    "cleaned_data = data[data['unit_price']!=25725]\n",
    "cleaned_data = cleaned_data[cleaned_data['order_amount']!=704000]"
   ]
  },
  {
   "cell_type": "code",
   "execution_count": 21,
   "id": "ccf4a578",
   "metadata": {},
   "outputs": [
    {
     "data": {
      "text/html": [
       "<div>\n",
       "<style scoped>\n",
       "    .dataframe tbody tr th:only-of-type {\n",
       "        vertical-align: middle;\n",
       "    }\n",
       "\n",
       "    .dataframe tbody tr th {\n",
       "        vertical-align: top;\n",
       "    }\n",
       "\n",
       "    .dataframe thead th {\n",
       "        text-align: right;\n",
       "    }\n",
       "</style>\n",
       "<table border=\"1\" class=\"dataframe\">\n",
       "  <thead>\n",
       "    <tr style=\"text-align: right;\">\n",
       "      <th></th>\n",
       "      <th>order_id</th>\n",
       "      <th>shop_id</th>\n",
       "      <th>user_id</th>\n",
       "      <th>order_amount</th>\n",
       "      <th>total_items</th>\n",
       "      <th>unit_price</th>\n",
       "    </tr>\n",
       "  </thead>\n",
       "  <tbody>\n",
       "    <tr>\n",
       "      <th>count</th>\n",
       "      <td>4937.000000</td>\n",
       "      <td>4937.000000</td>\n",
       "      <td>4937.000000</td>\n",
       "      <td>4937.000000</td>\n",
       "      <td>4937.000000</td>\n",
       "      <td>4937.000000</td>\n",
       "    </tr>\n",
       "    <tr>\n",
       "      <th>mean</th>\n",
       "      <td>2499.551347</td>\n",
       "      <td>49.846465</td>\n",
       "      <td>849.752279</td>\n",
       "      <td>302.580514</td>\n",
       "      <td>1.994734</td>\n",
       "      <td>151.788536</td>\n",
       "    </tr>\n",
       "    <tr>\n",
       "      <th>std</th>\n",
       "      <td>1444.069407</td>\n",
       "      <td>29.061131</td>\n",
       "      <td>86.840313</td>\n",
       "      <td>160.804912</td>\n",
       "      <td>0.982821</td>\n",
       "      <td>29.034215</td>\n",
       "    </tr>\n",
       "    <tr>\n",
       "      <th>min</th>\n",
       "      <td>1.000000</td>\n",
       "      <td>1.000000</td>\n",
       "      <td>700.000000</td>\n",
       "      <td>90.000000</td>\n",
       "      <td>1.000000</td>\n",
       "      <td>90.000000</td>\n",
       "    </tr>\n",
       "    <tr>\n",
       "      <th>25%</th>\n",
       "      <td>1248.000000</td>\n",
       "      <td>24.000000</td>\n",
       "      <td>775.000000</td>\n",
       "      <td>163.000000</td>\n",
       "      <td>1.000000</td>\n",
       "      <td>132.000000</td>\n",
       "    </tr>\n",
       "    <tr>\n",
       "      <th>50%</th>\n",
       "      <td>2497.000000</td>\n",
       "      <td>50.000000</td>\n",
       "      <td>850.000000</td>\n",
       "      <td>284.000000</td>\n",
       "      <td>2.000000</td>\n",
       "      <td>153.000000</td>\n",
       "    </tr>\n",
       "    <tr>\n",
       "      <th>75%</th>\n",
       "      <td>3751.000000</td>\n",
       "      <td>74.000000</td>\n",
       "      <td>925.000000</td>\n",
       "      <td>387.000000</td>\n",
       "      <td>3.000000</td>\n",
       "      <td>166.000000</td>\n",
       "    </tr>\n",
       "    <tr>\n",
       "      <th>max</th>\n",
       "      <td>5000.000000</td>\n",
       "      <td>100.000000</td>\n",
       "      <td>999.000000</td>\n",
       "      <td>1760.000000</td>\n",
       "      <td>8.000000</td>\n",
       "      <td>352.000000</td>\n",
       "    </tr>\n",
       "  </tbody>\n",
       "</table>\n",
       "</div>"
      ],
      "text/plain": [
       "          order_id      shop_id      user_id  order_amount  total_items  \\\n",
       "count  4937.000000  4937.000000  4937.000000   4937.000000  4937.000000   \n",
       "mean   2499.551347    49.846465   849.752279    302.580514     1.994734   \n",
       "std    1444.069407    29.061131    86.840313    160.804912     0.982821   \n",
       "min       1.000000     1.000000   700.000000     90.000000     1.000000   \n",
       "25%    1248.000000    24.000000   775.000000    163.000000     1.000000   \n",
       "50%    2497.000000    50.000000   850.000000    284.000000     2.000000   \n",
       "75%    3751.000000    74.000000   925.000000    387.000000     3.000000   \n",
       "max    5000.000000   100.000000   999.000000   1760.000000     8.000000   \n",
       "\n",
       "        unit_price  \n",
       "count  4937.000000  \n",
       "mean    151.788536  \n",
       "std      29.034215  \n",
       "min      90.000000  \n",
       "25%     132.000000  \n",
       "50%     153.000000  \n",
       "75%     166.000000  \n",
       "max     352.000000  "
      ]
     },
     "execution_count": 21,
     "metadata": {},
     "output_type": "execute_result"
    }
   ],
   "source": [
    "cleaned_data.describe()"
   ]
  },
  {
   "cell_type": "code",
   "execution_count": 22,
   "id": "228aa594",
   "metadata": {},
   "outputs": [
    {
     "data": {
      "text/plain": [
       "302.58051448247926"
      ]
     },
     "execution_count": 22,
     "metadata": {},
     "output_type": "execute_result"
    }
   ],
   "source": [
    "sum(cleaned_data['order_amount'])/cleaned_data['order_amount'].count()"
   ]
  },
  {
   "cell_type": "markdown",
   "id": "2f7d58c4",
   "metadata": {},
   "source": [
    "#### Now, the average order value (AOV) for cleaned data is $302.58"
   ]
  },
  {
   "cell_type": "markdown",
   "id": "e89b6589",
   "metadata": {},
   "source": [
    "#### We could use median as the metric"
   ]
  },
  {
   "cell_type": "code",
   "execution_count": 23,
   "id": "170c56bb",
   "metadata": {},
   "outputs": [
    {
     "data": {
      "text/plain": [
       "284.0"
      ]
     },
     "execution_count": 23,
     "metadata": {},
     "output_type": "execute_result"
    }
   ],
   "source": [
    "data['order_amount'].median()"
   ]
  },
  {
   "cell_type": "code",
   "execution_count": 24,
   "id": "f29e9164",
   "metadata": {},
   "outputs": [
    {
     "data": {
      "text/plain": [
       "284.0"
      ]
     },
     "execution_count": 24,
     "metadata": {},
     "output_type": "execute_result"
    }
   ],
   "source": [
    "cleaned_data['order_amount'].median()"
   ]
  },
  {
   "cell_type": "markdown",
   "id": "ec384d18",
   "metadata": {},
   "source": [
    "#### We can tell that before and after removing the outliers, the median of order amount ($284) of the order amount is same. Thus, median is a robust metric."
   ]
  },
  {
   "cell_type": "markdown",
   "id": "945aad82",
   "metadata": {},
   "source": [
    "### Question 2: \n",
    "For this question you’ll need to use SQL. Follow this link to access the data set required for the challenge. Please use queries to answer the following questions. Paste your queries along with your final numerical answers below.\n",
    "\n",
    "a. How many orders were shipped by Speedy Express in total?   \n",
    "b. What is the last name of the employee with the most orders?    \n",
    "c. What product was ordered the most by customers in Germany?   \n"
   ]
  },
  {
   "cell_type": "markdown",
   "id": "157fc1d8",
   "metadata": {},
   "source": [
    "#### Answer"
   ]
  },
  {
   "cell_type": "markdown",
   "id": "c7847c1e",
   "metadata": {},
   "source": [
    "#### a.\n",
    "SELECT COUNT(*) AS Orders    \n",
    "FROM [Orders] AS o    \n",
    "INNER JOIN Shippers AS s ON o.ShipperID = s.ShipperID   \n",
    "WHERE ShipperName = \"Speedy Express\";"
   ]
  },
  {
   "cell_type": "markdown",
   "id": "1b10a9aa",
   "metadata": {},
   "source": [
    "#### There are 54 orders shipped by Speedy Expresss in total.   \n",
    "Idea of solving the problem:   \n",
    "Order and Shippers information stored in Orders and Shippers tables respectively. First, join two tables by their primary key ShippersID. Then, count all orders with Speedy Express."
   ]
  },
  {
   "cell_type": "markdown",
   "id": "7e62bbb4",
   "metadata": {},
   "source": [
    "#### b.  \n",
    "SELECT e.LastName, COUNT(*) AS Orders   \n",
    "FROM [Employees] AS e   \n",
    "INNER JOIN [Orders] AS o ON e.EmployeeID = o.EmployeeID   \n",
    "GROUP BY e.EmployeeID    \n",
    "ORDER BY COUNT(*) DESC   \n",
    "LIMIT 1;"
   ]
  },
  {
   "cell_type": "markdown",
   "id": "384864a7",
   "metadata": {},
   "source": [
    "#### The last name of the employee with the most orders is Peacock (with 40 orders).    \n",
    "Idea of solving the problem:   \n",
    "Order and Employee information stored in Orders and Employees tables respectively. First, join two tables by their primary key EmployeeID. Then, we need to count the orders each employee have. We use group by employee ID to achieve that. Third, we need sort in descending order so that the first records will be the employee with the most order. We select LastName column to get the name."
   ]
  },
  {
   "cell_type": "markdown",
   "id": "5d3ac2f5",
   "metadata": {},
   "source": [
    "#### c. \n",
    "SELECT p.ProductName, SUM(od.Quantity) AS MostOrderedQuantity  \n",
    "FROM [Products] AS p   \n",
    "INNER JOIN [OrderDetails] AS od ON p.ProductID = od.ProductID  \n",
    "INNER JOIN [Orders] AS o ON od.OrderID = o.OrderID  \n",
    "INNER JOIN [Customers] AS c ON o.CustomerID = c.CustomerID  \n",
    "WHERE c.Country = \"Germany\"  \n",
    "GROUP BY p.ProductName  \n",
    "ORDER BY SUM(od.Quantity) DESC   \n",
    "LIMIT 1;"
   ]
  },
  {
   "cell_type": "markdown",
   "id": "dc683e91",
   "metadata": {},
   "source": [
    "##### Boston Crab Meat was ordered the most (160 times) by Germany Customers    \n",
    "Idea of solving the problem:    \n",
    "Product order amount and customer country information stored in Products and Customers tables respectively. However, they do not have the common column to join 2 tables. We need to find the connection between those 2. Thus, we first connect 4 tables: Products, OrderDetails, Orders and Customers by common key ID. Then, we select country=Germany since we are only interested in Germany customers. Next, we count all the quantity ordered for each product and sort in descending order. The product ordered most by Germeny customers is the first record. We select the product name to get the answer."
   ]
  },
  {
   "cell_type": "markdown",
   "id": "2152e0af",
   "metadata": {},
   "source": [
    "#### Thanks for your patience of going through the analysis!!"
   ]
  },
  {
   "cell_type": "code",
   "execution_count": null,
   "id": "595d27ae",
   "metadata": {},
   "outputs": [],
   "source": []
  }
 ],
 "metadata": {
  "kernelspec": {
   "display_name": "Python 3 (ipykernel)",
   "language": "python",
   "name": "python3"
  },
  "language_info": {
   "codemirror_mode": {
    "name": "ipython",
    "version": 3
   },
   "file_extension": ".py",
   "mimetype": "text/x-python",
   "name": "python",
   "nbconvert_exporter": "python",
   "pygments_lexer": "ipython3",
   "version": "3.7.4"
  }
 },
 "nbformat": 4,
 "nbformat_minor": 5
}
